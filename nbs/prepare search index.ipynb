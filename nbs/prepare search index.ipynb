{
 "cells": [
  {
   "cell_type": "code",
   "execution_count": 1,
   "id": "65dacddd",
   "metadata": {},
   "outputs": [
    {
     "name": "stdout",
     "output_type": "stream",
     "text": [
      "/home/elijah/video_membership\n"
     ]
    }
   ],
   "source": [
    "%cd /home/elijah/video_membership\n"
   ]
  },
  {
   "cell_type": "code",
   "execution_count": 2,
   "id": "ff5ca278",
   "metadata": {},
   "outputs": [],
   "source": [
    "from app import db\n",
    "from app.playlist.models import Playlist \n",
    "from app.users.models import User\n",
    "from app.videos.models import Video\n",
    "from cassandra.cqlengine.management import sync_table"
   ]
  },
  {
   "cell_type": "code",
   "execution_count": 3,
   "id": "c981841b",
   "metadata": {},
   "outputs": [],
   "source": [
    "from app.indexing.schemas import *"
   ]
  },
  {
   "cell_type": "code",
   "execution_count": 4,
   "id": "ecde460e",
   "metadata": {},
   "outputs": [],
   "source": [
    "db.get_session()\n",
    "sync_table(User)\n",
    "sync_table(Video)\n",
    "sync_table(Playlist)"
   ]
  },
  {
   "cell_type": "code",
   "execution_count": 5,
   "id": "a9014d0f",
   "metadata": {},
   "outputs": [],
   "source": [
    "import uuid \n",
    "import json\n",
    "from pydantic import BaseModel , Field, validator, root_validator\n",
    "from typing import Optional"
   ]
  },
  {
   "cell_type": "code",
   "execution_count": 6,
   "id": "cfb99543",
   "metadata": {},
   "outputs": [
    {
     "data": {
      "text/plain": [
       "{'host_id': 'RB-RcX5DS5A',\n",
       " 'db_id': UUID('9ea79ce6-b3a7-11ed-a62a-d91575de2f44'),\n",
       " 'host_service': 'youtube',\n",
       " 'title': 'sammy ',\n",
       " 'url': 'https://www.youtube.com/watch?v=RB-RcX5DS5A',\n",
       " 'user_id': UUID('e2f76ba4-adc3-11ed-b906-331c8dd1903c')}"
      ]
     },
     "execution_count": 6,
     "metadata": {},
     "output_type": "execute_result"
    }
   ],
   "source": [
    "video_obj = dict(Video.objects.first())\n",
    "video_obj"
   ]
  },
  {
   "cell_type": "code",
   "execution_count": 7,
   "id": "3b352a63",
   "metadata": {},
   "outputs": [],
   "source": [
    "class VideoIndexSchema2(BaseModel):\n",
    "    objectID: str = Field(alias='host_id')\n",
    "    objectType: str = \"Video\"\n",
    "    title: Optional[str]\n",
    "    path: str = Field(alias='host_id')\n",
    "        \n",
    "    @validator(\"path\")\n",
    "    def set_path(cls, v, values, **kwargs):\n",
    "        host_id = v\n",
    "        return f\"/videos/{host_id}\""
   ]
  },
  {
   "cell_type": "code",
   "execution_count": 8,
   "id": "4caa3534",
   "metadata": {},
   "outputs": [
    {
     "data": {
      "text/plain": [
       "{'objectID': 'RB-RcX5DS5A',\n",
       " 'objectType': 'Video',\n",
       " 'title': 'sammy ',\n",
       " 'path': '/videos/RB-RcX5DS5A'}"
      ]
     },
     "execution_count": 8,
     "metadata": {},
     "output_type": "execute_result"
    }
   ],
   "source": [
    "VideoIndexSchema(**video_obj).dict()"
   ]
  },
  {
   "cell_type": "code",
   "execution_count": 9,
   "id": "cfa7cc00",
   "metadata": {},
   "outputs": [
    {
     "data": {
      "text/plain": [
       "{'db_id': UUID('101df0e6-b79a-11ed-ab0e-a9ea9ce579b1'),\n",
       " 'user_id': None,\n",
       " 'updated': datetime.datetime(2023, 3, 5, 5, 33, 19, 260000),\n",
       " 'host_ids': ['0n-vUvMFffhH4'],\n",
       " 'title': 'Hello sam'}"
      ]
     },
     "execution_count": 9,
     "metadata": {},
     "output_type": "execute_result"
    }
   ],
   "source": [
    "playlist_obj = dict(Playlist.objects.first())\n",
    "playlist_obj"
   ]
  },
  {
   "cell_type": "code",
   "execution_count": 10,
   "id": "578defa5",
   "metadata": {},
   "outputs": [],
   "source": [
    "class PlaylistIndexSchema2(BaseModel):\n",
    "    objectID: uuid.UUID = Field(alias='db_id')\n",
    "    objectType: str = \"Playlist\"\n",
    "    title: Optional[str]\n",
    "    path: str = Field(default='/')\n",
    "    \n",
    "    @root_validator\n",
    "    def set_default(cls, values):\n",
    "        objectID = values.get('objectID')\n",
    "        values['objectID'] = str(objectID)\n",
    "        values['path'] = f\"/playlists/{objectID}\"\n",
    "        return values"
   ]
  },
  {
   "cell_type": "code",
   "execution_count": 11,
   "id": "21ad5b80",
   "metadata": {},
   "outputs": [],
   "source": [
    "##json.loads(PlaylistIndexSchema(**playlist_obj).json())"
   ]
  },
  {
   "cell_type": "code",
   "execution_count": 12,
   "id": "97cb7fab",
   "metadata": {},
   "outputs": [
    {
     "data": {
      "text/plain": [
       "{'objectID': '101df0e6-b79a-11ed-ab0e-a9ea9ce579b1',\n",
       " 'objectType': 'Playlist',\n",
       " 'title': 'Hello sam',\n",
       " 'path': '/playlists/101df0e6-b79a-11ed-ab0e-a9ea9ce579b1'}"
      ]
     },
     "execution_count": 12,
     "metadata": {},
     "output_type": "execute_result"
    }
   ],
   "source": [
    "PlaylistIndexSchema(**playlist_obj).dict()"
   ]
  },
  {
   "cell_type": "code",
   "execution_count": 13,
   "id": "de1b86c6",
   "metadata": {},
   "outputs": [
    {
     "data": {
      "text/plain": [
       "[{'objectID': 'RB-RcX5DS5A',\n",
       "  'objectType': 'Video',\n",
       "  'title': 'sammy ',\n",
       "  'path': '/videos/RB-RcX5DS5A'},\n",
       " {'objectID': 'kNlcoQh2PnI',\n",
       "  'objectType': 'Video',\n",
       "  'title': 'Shark tank',\n",
       "  'path': '/videos/kNlcoQh2PnI'},\n",
       " {'objectID': 'd-aEy9Ze01E',\n",
       "  'objectType': 'Video',\n",
       "  'title': 'sammy best viddeo33',\n",
       "  'path': '/videos/d-aEy9Ze01E'},\n",
       " {'objectID': 'd-aEy9Ze01E',\n",
       "  'objectType': 'Video',\n",
       "  'title': 'THis is my new friend',\n",
       "  'path': '/videos/d-aEy9Ze01E'},\n",
       " {'objectID': 'r5y4EDxiMWs',\n",
       "  'objectType': 'Video',\n",
       "  'title': None,\n",
       "  'path': '/videos/r5y4EDxiMWs'},\n",
       " {'objectID': 'bjW4T3xp8vc',\n",
       "  'objectType': 'Video',\n",
       "  'title': 'Shark tank 2334 ',\n",
       "  'path': '/videos/bjW4T3xp8vc'},\n",
       " {'objectID': '7cpWa0La_AA',\n",
       "  'objectType': 'Video',\n",
       "  'title': 'Jet bys',\n",
       "  'path': '/videos/7cpWa0La_AA'},\n",
       " {'objectID': 'cjVQ36NhbMk',\n",
       "  'objectType': 'Video',\n",
       "  'title': None,\n",
       "  'path': '/videos/cjVQ36NhbMk'},\n",
       " {'objectID': '2K2LpF1WdLk',\n",
       "  'objectType': 'Video',\n",
       "  'title': 'ANother video ',\n",
       "  'path': '/videos/2K2LpF1WdLk'},\n",
       " {'objectID': 'wObTive0mBM',\n",
       "  'objectType': 'Video',\n",
       "  'title': 'open cv is cool',\n",
       "  'path': '/videos/wObTive0mBM'},\n",
       " {'objectID': 'cimoNqiulUE',\n",
       "  'objectType': 'Video',\n",
       "  'title': None,\n",
       "  'path': '/videos/cimoNqiulUE'},\n",
       " {'objectID': 'gyu-CvVOMlc',\n",
       "  'objectType': 'Video',\n",
       "  'title': 'Ranch',\n",
       "  'path': '/videos/gyu-CvVOMlc'},\n",
       " {'objectID': 'n49mQRfbrXA',\n",
       "  'objectType': 'Video',\n",
       "  'title': None,\n",
       "  'path': '/videos/n49mQRfbrXA'},\n",
       " {'objectID': 'UzMr7-0FgA0',\n",
       "  'objectType': 'Video',\n",
       "  'title': None,\n",
       "  'path': '/videos/UzMr7-0FgA0'},\n",
       " {'objectID': '1swlR6QcHcg',\n",
       "  'objectType': 'Video',\n",
       "  'title': None,\n",
       "  'path': '/videos/1swlR6QcHcg'},\n",
       " {'objectID': '0n-vUvMFffhH4',\n",
       "  'objectType': 'Video',\n",
       "  'title': 'sadf',\n",
       "  'path': '/videos/0n-vUvMFffhH4'},\n",
       " {'objectID': 'w6CToBsVddY',\n",
       "  'objectType': 'Video',\n",
       "  'title': None,\n",
       "  'path': '/videos/w6CToBsVddY'},\n",
       " {'objectID': '0n-vUvMFhH4',\n",
       "  'objectType': 'Video',\n",
       "  'title': 'Sahrk tank',\n",
       "  'path': '/videos/0n-vUvMFhH4'},\n",
       " {'objectID': 'zEe_bQ5LSMs',\n",
       "  'objectType': 'Video',\n",
       "  'title': 'New video ',\n",
       "  'path': '/videos/zEe_bQ5LSMs'}]"
      ]
     },
     "execution_count": 13,
     "metadata": {},
     "output_type": "execute_result"
    }
   ],
   "source": [
    "video_q = [dict(x) for x in Video.objects.all()]\n",
    "videos_dataset = [VideoIndexSchema(**x).dict() for x in video_q]\n",
    "videos_dataset"
   ]
  },
  {
   "cell_type": "code",
   "execution_count": 14,
   "id": "7e4b4426",
   "metadata": {},
   "outputs": [
    {
     "data": {
      "text/plain": [
       "[{'objectID': '101df0e6-b79a-11ed-ab0e-a9ea9ce579b1',\n",
       "  'objectType': 'Playlist',\n",
       "  'title': 'Hello sam',\n",
       "  'path': '/playlists/101df0e6-b79a-11ed-ab0e-a9ea9ce579b1'},\n",
       " {'objectID': 'd0914642-b9df-11ed-b9de-6ff720f1ee13',\n",
       "  'objectType': 'Playlist',\n",
       "  'title': 'EDF',\n",
       "  'path': '/playlists/d0914642-b9df-11ed-b9de-6ff720f1ee13'},\n",
       " {'objectID': '4a7d2062-b7fa-11ed-ab0e-a9ea9ce579b1',\n",
       "  'objectType': 'Playlist',\n",
       "  'title': 'sams best',\n",
       "  'path': '/playlists/4a7d2062-b7fa-11ed-ab0e-a9ea9ce579b1'},\n",
       " {'objectID': 'fea5c0cc-b7f9-11ed-ab0e-a9ea9ce579b1',\n",
       "  'objectType': 'Playlist',\n",
       "  'title': 'video trailers',\n",
       "  'path': '/playlists/fea5c0cc-b7f9-11ed-ab0e-a9ea9ce579b1'},\n",
       " {'objectID': '2a269742-b9dc-11ed-b9de-6ff720f1ee13',\n",
       "  'objectType': 'Playlist',\n",
       "  'title': 'sam',\n",
       "  'path': '/playlists/2a269742-b9dc-11ed-b9de-6ff720f1ee13'},\n",
       " {'objectID': '93fd9398-b9df-11ed-b9de-6ff720f1ee13',\n",
       "  'objectType': 'Playlist',\n",
       "  'title': 'erf',\n",
       "  'path': '/playlists/93fd9398-b9df-11ed-b9de-6ff720f1ee13'},\n",
       " {'objectID': 'e1b6d5cc-b804-11ed-ab0e-a9ea9ce579b1',\n",
       "  'objectType': 'Playlist',\n",
       "  'title': 'New video ',\n",
       "  'path': '/playlists/e1b6d5cc-b804-11ed-ab0e-a9ea9ce579b1'}]"
      ]
     },
     "execution_count": 14,
     "metadata": {},
     "output_type": "execute_result"
    }
   ],
   "source": [
    "playlist_q = [dict(x) for x in Playlist.objects.all()]\n",
    "playlist_dataset = [PlaylistIndexSchema(**x).dict() for x in playlist_q]\n",
    "playlist_dataset"
   ]
  },
  {
   "cell_type": "code",
   "execution_count": 15,
   "id": "0253e6e4",
   "metadata": {},
   "outputs": [],
   "source": [
    "dataset = playlist_dataset + videos_dataset"
   ]
  },
  {
   "cell_type": "code",
   "execution_count": 17,
   "id": "2b41851c",
   "metadata": {},
   "outputs": [
    {
     "data": {
      "text/plain": [
       "[{'objectID': '101df0e6-b79a-11ed-ab0e-a9ea9ce579b1',\n",
       "  'objectType': 'Playlist',\n",
       "  'title': 'Hello sam',\n",
       "  'path': '/playlists/101df0e6-b79a-11ed-ab0e-a9ea9ce579b1'},\n",
       " {'objectID': 'd0914642-b9df-11ed-b9de-6ff720f1ee13',\n",
       "  'objectType': 'Playlist',\n",
       "  'title': 'EDF',\n",
       "  'path': '/playlists/d0914642-b9df-11ed-b9de-6ff720f1ee13'},\n",
       " {'objectID': '4a7d2062-b7fa-11ed-ab0e-a9ea9ce579b1',\n",
       "  'objectType': 'Playlist',\n",
       "  'title': 'sams best',\n",
       "  'path': '/playlists/4a7d2062-b7fa-11ed-ab0e-a9ea9ce579b1'},\n",
       " {'objectID': 'fea5c0cc-b7f9-11ed-ab0e-a9ea9ce579b1',\n",
       "  'objectType': 'Playlist',\n",
       "  'title': 'video trailers',\n",
       "  'path': '/playlists/fea5c0cc-b7f9-11ed-ab0e-a9ea9ce579b1'},\n",
       " {'objectID': '2a269742-b9dc-11ed-b9de-6ff720f1ee13',\n",
       "  'objectType': 'Playlist',\n",
       "  'title': 'sam',\n",
       "  'path': '/playlists/2a269742-b9dc-11ed-b9de-6ff720f1ee13'},\n",
       " {'objectID': '93fd9398-b9df-11ed-b9de-6ff720f1ee13',\n",
       "  'objectType': 'Playlist',\n",
       "  'title': 'erf',\n",
       "  'path': '/playlists/93fd9398-b9df-11ed-b9de-6ff720f1ee13'},\n",
       " {'objectID': 'e1b6d5cc-b804-11ed-ab0e-a9ea9ce579b1',\n",
       "  'objectType': 'Playlist',\n",
       "  'title': 'New video ',\n",
       "  'path': '/playlists/e1b6d5cc-b804-11ed-ab0e-a9ea9ce579b1'},\n",
       " {'objectID': 'RB-RcX5DS5A',\n",
       "  'objectType': 'Video',\n",
       "  'title': 'sammy ',\n",
       "  'path': '/videos/RB-RcX5DS5A'},\n",
       " {'objectID': 'kNlcoQh2PnI',\n",
       "  'objectType': 'Video',\n",
       "  'title': 'Shark tank',\n",
       "  'path': '/videos/kNlcoQh2PnI'},\n",
       " {'objectID': 'd-aEy9Ze01E',\n",
       "  'objectType': 'Video',\n",
       "  'title': 'sammy best viddeo33',\n",
       "  'path': '/videos/d-aEy9Ze01E'},\n",
       " {'objectID': 'd-aEy9Ze01E',\n",
       "  'objectType': 'Video',\n",
       "  'title': 'THis is my new friend',\n",
       "  'path': '/videos/d-aEy9Ze01E'},\n",
       " {'objectID': 'r5y4EDxiMWs',\n",
       "  'objectType': 'Video',\n",
       "  'title': None,\n",
       "  'path': '/videos/r5y4EDxiMWs'},\n",
       " {'objectID': 'bjW4T3xp8vc',\n",
       "  'objectType': 'Video',\n",
       "  'title': 'Shark tank 2334 ',\n",
       "  'path': '/videos/bjW4T3xp8vc'},\n",
       " {'objectID': '7cpWa0La_AA',\n",
       "  'objectType': 'Video',\n",
       "  'title': 'Jet bys',\n",
       "  'path': '/videos/7cpWa0La_AA'},\n",
       " {'objectID': 'cjVQ36NhbMk',\n",
       "  'objectType': 'Video',\n",
       "  'title': None,\n",
       "  'path': '/videos/cjVQ36NhbMk'},\n",
       " {'objectID': '2K2LpF1WdLk',\n",
       "  'objectType': 'Video',\n",
       "  'title': 'ANother video ',\n",
       "  'path': '/videos/2K2LpF1WdLk'},\n",
       " {'objectID': 'wObTive0mBM',\n",
       "  'objectType': 'Video',\n",
       "  'title': 'open cv is cool',\n",
       "  'path': '/videos/wObTive0mBM'},\n",
       " {'objectID': 'cimoNqiulUE',\n",
       "  'objectType': 'Video',\n",
       "  'title': None,\n",
       "  'path': '/videos/cimoNqiulUE'},\n",
       " {'objectID': 'gyu-CvVOMlc',\n",
       "  'objectType': 'Video',\n",
       "  'title': 'Ranch',\n",
       "  'path': '/videos/gyu-CvVOMlc'},\n",
       " {'objectID': 'n49mQRfbrXA',\n",
       "  'objectType': 'Video',\n",
       "  'title': None,\n",
       "  'path': '/videos/n49mQRfbrXA'},\n",
       " {'objectID': 'UzMr7-0FgA0',\n",
       "  'objectType': 'Video',\n",
       "  'title': None,\n",
       "  'path': '/videos/UzMr7-0FgA0'},\n",
       " {'objectID': '1swlR6QcHcg',\n",
       "  'objectType': 'Video',\n",
       "  'title': None,\n",
       "  'path': '/videos/1swlR6QcHcg'},\n",
       " {'objectID': '0n-vUvMFffhH4',\n",
       "  'objectType': 'Video',\n",
       "  'title': 'sadf',\n",
       "  'path': '/videos/0n-vUvMFffhH4'},\n",
       " {'objectID': 'w6CToBsVddY',\n",
       "  'objectType': 'Video',\n",
       "  'title': None,\n",
       "  'path': '/videos/w6CToBsVddY'},\n",
       " {'objectID': '0n-vUvMFhH4',\n",
       "  'objectType': 'Video',\n",
       "  'title': 'Sahrk tank',\n",
       "  'path': '/videos/0n-vUvMFhH4'},\n",
       " {'objectID': 'zEe_bQ5LSMs',\n",
       "  'objectType': 'Video',\n",
       "  'title': 'New video ',\n",
       "  'path': '/videos/zEe_bQ5LSMs'}]"
      ]
     },
     "execution_count": 17,
     "metadata": {},
     "output_type": "execute_result"
    }
   ],
   "source": [
    "dataset"
   ]
  },
  {
   "cell_type": "code",
   "execution_count": null,
   "id": "164b3eec",
   "metadata": {},
   "outputs": [],
   "source": []
  }
 ],
 "metadata": {
  "kernelspec": {
   "display_name": "Python 3 (ipykernel)",
   "language": "python",
   "name": "python3"
  },
  "language_info": {
   "codemirror_mode": {
    "name": "ipython",
    "version": 3
   },
   "file_extension": ".py",
   "mimetype": "text/x-python",
   "name": "python",
   "nbconvert_exporter": "python",
   "pygments_lexer": "ipython3",
   "version": "3.10.6"
  }
 },
 "nbformat": 4,
 "nbformat_minor": 5
}
