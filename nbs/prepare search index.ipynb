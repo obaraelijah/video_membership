{
 "cells": [
  {
   "cell_type": "code",
   "execution_count": 1,
   "id": "65dacddd",
   "metadata": {},
   "outputs": [],
   "source": [
    "%cd /home/elijah/video_membership\n"
   ]
  },
  {
   "cell_type": "code",
   "execution_count": 2,
   "id": "ff5ca278",
   "metadata": {},
   "outputs": [],
   "source": [
    "from app import db\n",
    "from app.playlist.models import Playlist \n",
    "from app.users.models import User\n",
    "from app.videos.models import Video\n",
    "from cassandra.cqlengine.management import sync_table"
   ]
  },
  {
   "cell_type": "code",
   "execution_count": 3,
   "id": "c981841b",
   "metadata": {},
   "outputs": [],
   "source": [
    "from app.indexing.client import get_index, update_index, update_index\n",
    "from app.indexing.schemas import *"
   ]
  },
  {
   "cell_type": "code",
   "execution_count": 4,
   "id": "ecde460e",
   "metadata": {},
   "outputs": [],
   "source": [
    "db.get_session()\n",
    "sync_table(User)\n",
    "sync_table(Video)\n",
    "sync_table(Playlist)"
   ]
  },
  {
   "cell_type": "code",
   "execution_count": 5,
   "id": "a9014d0f",
   "metadata": {},
   "outputs": [],
   "source": [
    "import uuid \n",
    "import json\n",
    "from pydantic import BaseModel , Field, validator, root_validator\n",
    "from typing import Optional"
   ]
  },
  {
   "cell_type": "code",
   "execution_count": 6,
   "id": "cfb99543",
   "metadata": {},
   "outputs": [],
   "source": [
    "video_obj = dict(Video.objects.first())\n",
    "video_obj"
   ]
  },
  {
   "cell_type": "code",
   "execution_count": 7,
   "id": "3b352a63",
   "metadata": {},
   "outputs": [],
   "source": [
    "class VideoIndexSchema2(BaseModel):\n",
    "    objectID: str = Field(alias='host_id')\n",
    "    objectType: str = \"Video\"\n",
    "    title: Optional[str]\n",
    "    path: str = Field(alias='host_id')\n",
    "        \n",
    "    @validator(\"path\")\n",
    "    def set_path(cls, v, values, **kwargs):\n",
    "        host_id = v\n",
    "        return f\"/videos/{host_id}\""
   ]
  },
  {
   "cell_type": "code",
   "execution_count": 8,
   "id": "4caa3534",
   "metadata": {},
   "outputs": [],
   "source": [
    "VideoIndexSchema(**video_obj).dict()"
   ]
  },
  {
   "cell_type": "code",
   "execution_count": 9,
   "id": "cfa7cc00",
   "metadata": {},
   "outputs": [],
   "source": [
    "playlist_obj = dict(Playlist.objects.first())\n",
    "playlist_obj"
   ]
  },
  {
   "cell_type": "code",
   "execution_count": 10,
   "id": "578defa5",
   "metadata": {},
   "outputs": [],
   "source": [
    "class PlaylistIndexSchema2(BaseModel):\n",
    "    objectID: uuid.UUID = Field(alias='db_id')\n",
    "    objectType: str = \"Playlist\"\n",
    "    title: Optional[str]\n",
    "    path: str = Field(default='/')\n",
    "    \n",
    "    @root_validator\n",
    "    def set_default(cls, values):\n",
    "        objectID = values.get('objectID')\n",
    "        values['objectID'] = str(objectID)\n",
    "        values['path'] = f\"/playlists/{objectID}\"\n",
    "        return values"
   ]
  },
  {
   "cell_type": "code",
   "execution_count": 11,
   "id": "21ad5b80",
   "metadata": {},
   "outputs": [],
   "source": [
    "##json.loads(PlaylistIndexSchema(**playlist_obj).json())"
   ]
  },
  {
   "cell_type": "code",
   "execution_count": 12,
   "id": "97cb7fab",
   "metadata": {},
   "outputs": [],
   "source": [
    "PlaylistIndexSchema(**playlist_obj).dict()"
   ]
  },
  {
   "cell_type": "code",
   "execution_count": 13,
   "id": "de1b86c6",
   "metadata": {},
   "outputs": [],
   "source": [
    "video_q = [dict(x) for x in Video.objects.all()]\n",
    "videos_dataset = [VideoIndexSchema(**x).dict() for x in video_q]\n",
    "videos_dataset"
   ]
  },
  {
   "cell_type": "code",
   "execution_count": 14,
   "id": "7e4b4426",
   "metadata": {},
   "outputs": [],
   "source": [
    "playlist_q = [dict(x) for x in Playlist.objects.all()]\n",
    "playlist_dataset = [PlaylistIndexSchema(**x).dict() for x in playlist_q]\n",
    "playlist_dataset"
   ]
  },
  {
   "cell_type": "code",
   "execution_count": 15,
   "id": "0253e6e4",
   "metadata": {},
   "outputs": [],
   "source": [
    "dataset = playlist_dataset + videos_dataset"
   ]
  },
  {
   "cell_type": "code",
   "execution_count": 16,
   "id": "2b41851c",
   "metadata": {},
   "outputs": [],
   "source": [
    "dataset"
   ]
  },
  {
   "cell_type": "code",
   "execution_count": 17,
   "id": "164b3eec",
   "metadata": {},
   "outputs": [],
   "source": [
    "index = get_index()"
   ]
  },
  {
   "cell_type": "code",
   "execution_count": 18,
   "id": "3ca3a836",
   "metadata": {},
   "outputs": [],
   "source": [
    "#dir(index)"
   ]
  },
  {
   "cell_type": "code",
   "execution_count": 23,
   "id": "f7325ae1",
   "metadata": {},
   "outputs": [],
   "source": [
    "#idx_response = index.save_objects(dataset).wait()\n",
    "#len(idx_response[0]['objectIDs'])\n",
    "updated_count = update_index()\n",
    "updated_count"
   ]
  },
  {
   "cell_type": "code",
   "execution_count": 22,
   "id": "1419e098",
   "metadata": {},
   "outputs": [],
   "source": [
    "index.search(\"Ranch\")"
   ]
  },
  {
   "cell_type": "code",
   "execution_count": null,
   "id": "4c62ce32",
   "metadata": {},
   "outputs": [],
   "source": []
  },
  {
   "cell_type": "code",
   "execution_count": null,
   "id": "03c35269",
   "metadata": {},
   "outputs": [],
   "source": []
  }
 ],
 "metadata": {
  "kernelspec": {
   "display_name": "Python 3 (ipykernel)",
   "language": "python",
   "name": "python3"
  },
  "language_info": {
   "codemirror_mode": {
    "name": "ipython",
    "version": 3
   },
   "file_extension": ".py",
   "mimetype": "text/x-python",
   "name": "python",
   "nbconvert_exporter": "python",
   "pygments_lexer": "ipython3",
   "version": "3.10.6"
  }
 },
 "nbformat": 4,
 "nbformat_minor": 5
}
