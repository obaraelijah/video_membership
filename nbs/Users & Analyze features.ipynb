{
 "cells": [
  {
   "cell_type": "code",
   "execution_count": 5,
   "id": "65dacddd",
   "metadata": {},
   "outputs": [
    {
     "name": "stdout",
     "output_type": "stream",
     "text": [
      "/home/elijah/video_membership\n"
     ]
    }
   ],
   "source": [
    "%cd ~/home/elijah/video_membership"
   ]
  },
  {
   "cell_type": "code",
   "execution_count": null,
   "id": "a135cc6e",
   "metadata": {},
   "outputs": [],
   "source": []
  },
  {
   "cell_type": "code",
   "execution_count": 11,
   "id": "ff5ca278",
   "metadata": {},
   "outputs": [],
   "source": [
    "from app import db\n",
    "from app.users.models import User\n",
    "from cassandra.cqlengine.management import sync_table"
   ]
  },
  {
   "cell_type": "code",
   "execution_count": 12,
   "id": "3c08f6f9",
   "metadata": {},
   "outputs": [],
   "source": [
    "db.get_session()\n",
    "sync_table(User)"
   ]
  },
  {
   "cell_type": "code",
   "execution_count": 20,
   "id": "338219eb",
   "metadata": {},
   "outputs": [
    {
     "ename": "Exception",
     "evalue": "User already has an account.",
     "output_type": "error",
     "traceback": [
      "\u001b[0;31m---------------------------------------------------------------------------\u001b[0m",
      "\u001b[0;31mException\u001b[0m                                 Traceback (most recent call last)",
      "Cell \u001b[0;32mIn[20], line 1\u001b[0m\n\u001b[0;32m----> 1\u001b[0m \u001b[43mUser\u001b[49m\u001b[38;5;241;43m.\u001b[39;49m\u001b[43mcreate_user\u001b[49m\u001b[43m(\u001b[49m\u001b[38;5;124;43m\"\u001b[39;49m\u001b[38;5;124;43melijahobara357@gmail.com\u001b[39;49m\u001b[38;5;124;43m\"\u001b[39;49m\u001b[43m,\u001b[49m\u001b[43m \u001b[49m\u001b[43mpassword\u001b[49m\u001b[38;5;241;43m=\u001b[39;49m\u001b[38;5;124;43m'\u001b[39;49m\u001b[38;5;124;43mabc123\u001b[39;49m\u001b[38;5;124;43m'\u001b[39;49m\u001b[43m)\u001b[49m\n",
      "File \u001b[0;32m~/video_membership/app/users/models.py:44\u001b[0m, in \u001b[0;36mUser.create_user\u001b[0;34m(email, password)\u001b[0m\n\u001b[1;32m     42\u001b[0m q \u001b[38;5;241m=\u001b[39m User\u001b[38;5;241m.\u001b[39mobjects\u001b[38;5;241m.\u001b[39mfilter(email\u001b[38;5;241m=\u001b[39memail)\n\u001b[1;32m     43\u001b[0m \u001b[38;5;28;01mif\u001b[39;00m q\u001b[38;5;241m.\u001b[39mcount() \u001b[38;5;241m!=\u001b[39m \u001b[38;5;241m0\u001b[39m:\n\u001b[0;32m---> 44\u001b[0m   \u001b[38;5;28;01mraise\u001b[39;00m \u001b[38;5;167;01mException\u001b[39;00m(\u001b[38;5;124m\"\u001b[39m\u001b[38;5;124mUser already has an account.\u001b[39m\u001b[38;5;124m\"\u001b[39m)\n\u001b[1;32m     45\u001b[0m valid, msg, email \u001b[38;5;241m=\u001b[39m validators\u001b[38;5;241m.\u001b[39m_validate_email(email)\n\u001b[1;32m     46\u001b[0m \u001b[38;5;28;01mif\u001b[39;00m \u001b[38;5;129;01mnot\u001b[39;00m valid:\n",
      "\u001b[0;31mException\u001b[0m: User already has an account."
     ]
    }
   ],
   "source": [
    "#User.create_user(\"elijahobara357@gmail.com\", password='abc123')"
   ]
  },
  {
   "cell_type": "code",
   "execution_count": 22,
   "id": "6f0c4124",
   "metadata": {},
   "outputs": [],
   "source": [
    "p = User.create_user(\"elija@gmail.com\", password='abc123')"
   ]
  },
  {
   "cell_type": "code",
   "execution_count": 23,
   "id": "6179936e",
   "metadata": {},
   "outputs": [
    {
     "data": {
      "text/plain": [
       "'$argon2id$v=19$m=65536,t=3,p=4$iqLBDyBkWA3FLRNcNnggpw$zTe4d4Ehc82BTRuqlt0gnIWVcLsiftJJmfq2Uldmcs4'"
      ]
     },
     "execution_count": 23,
     "metadata": {},
     "output_type": "execute_result"
    }
   ],
   "source": [
    "p.password"
   ]
  },
  {
   "cell_type": "code",
   "execution_count": 25,
   "id": "ae61042b",
   "metadata": {},
   "outputs": [
    {
     "data": {
      "text/plain": [
       "True"
      ]
     },
     "execution_count": 25,
     "metadata": {},
     "output_type": "execute_result"
    }
   ],
   "source": [
    "p.verify_password('abc123')"
   ]
  },
  {
   "cell_type": "code",
   "execution_count": null,
   "id": "87c1b28c",
   "metadata": {},
   "outputs": [],
   "source": []
  }
 ],
 "metadata": {
  "kernelspec": {
   "display_name": "Python 3 (ipykernel)",
   "language": "python",
   "name": "python3"
  },
  "language_info": {
   "codemirror_mode": {
    "name": "ipython",
    "version": 3
   },
   "file_extension": ".py",
   "mimetype": "text/x-python",
   "name": "python",
   "nbconvert_exporter": "python",
   "pygments_lexer": "ipython3",
   "version": "3.10.6"
  }
 },
 "nbformat": 4,
 "nbformat_minor": 5
}
