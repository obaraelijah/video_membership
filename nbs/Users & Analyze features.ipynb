{
 "cells": [
  {
   "cell_type": "code",
   "execution_count": 2,
   "id": "65dacddd",
   "metadata": {},
   "outputs": [
    {
     "name": "stdout",
     "output_type": "stream",
     "text": [
      "[Errno 2] No such file or directory: '/home/elijah/home/elijah/video_membership'\n",
      "/home/elijah/video_membership/nbs\n"
     ]
    }
   ],
   "source": [
    "%cd ~/home/elijah/video_membership"
   ]
  },
  {
   "cell_type": "code",
   "execution_count": null,
   "id": "a135cc6e",
   "metadata": {},
   "outputs": [],
   "source": []
  },
  {
   "cell_type": "code",
   "execution_count": 11,
   "id": "ff5ca278",
   "metadata": {},
   "outputs": [],
   "source": [
    "from app import db\n",
    "from app.users.models import User\n",
    "from cassandra.cqlengine.management import sync_table"
   ]
  },
  {
   "cell_type": "code",
   "execution_count": 12,
   "id": "3c08f6f9",
   "metadata": {},
   "outputs": [],
   "source": [
    "db.get_session()\n",
    "sync_table(User)"
   ]
  },
  {
   "cell_type": "code",
   "execution_count": 22,
   "id": "6f0c4124",
   "metadata": {},
   "outputs": [],
   "source": [
    "p = User.create_user(\"elija@gmail.com\", password='abc123')"
   ]
  },
  {
   "cell_type": "code",
   "execution_count": 23,
   "id": "6179936e",
   "metadata": {},
   "outputs": [
    {
     "data": {
      "text/plain": [
       "'$argon2id$v=19$m=65536,t=3,p=4$iqLBDyBkWA3FLRNcNnggpw$zTe4d4Ehc82BTRuqlt0gnIWVcLsiftJJmfq2Uldmcs4'"
      ]
     },
     "execution_count": 23,
     "metadata": {},
     "output_type": "execute_result"
    }
   ],
   "source": [
    "p.password"
   ]
  },
  {
   "cell_type": "code",
   "execution_count": 1,
   "id": "ae61042b",
   "metadata": {},
   "outputs": [
    {
     "ename": "NameError",
     "evalue": "name 'p' is not defined",
     "output_type": "error",
     "traceback": [
      "\u001b[0;31m---------------------------------------------------------------------------\u001b[0m",
      "\u001b[0;31mNameError\u001b[0m                                 Traceback (most recent call last)",
      "Cell \u001b[0;32mIn[1], line 1\u001b[0m\n\u001b[0;32m----> 1\u001b[0m \u001b[43mp\u001b[49m\u001b[38;5;241m.\u001b[39mverify_password(\u001b[38;5;124m'\u001b[39m\u001b[38;5;124mabc123\u001b[39m\u001b[38;5;124m'\u001b[39m)\n",
      "\u001b[0;31mNameError\u001b[0m: name 'p' is not defined"
     ]
    }
   ],
   "source": [
    "p.verify_password('abc123')"
   ]
  },
  {
   "cell_type": "code",
   "execution_count": null,
   "id": "87c1b28c",
   "metadata": {},
   "outputs": [],
   "source": []
  }
 ],
 "metadata": {
  "kernelspec": {
   "display_name": "Python 3 (ipykernel)",
   "language": "python",
   "name": "python3"
  },
  "language_info": {
   "codemirror_mode": {
    "name": "ipython",
    "version": 3
   },
   "file_extension": ".py",
   "mimetype": "text/x-python",
   "name": "python",
   "nbconvert_exporter": "python",
   "pygments_lexer": "ipython3",
   "version": "3.10.6"
  }
 },
 "nbformat": 4,
 "nbformat_minor": 5
}
