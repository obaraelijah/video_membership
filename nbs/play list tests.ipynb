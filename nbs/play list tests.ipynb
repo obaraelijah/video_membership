{
 "cells": [
  {
   "cell_type": "code",
   "execution_count": 2,
   "id": "65dacddd",
   "metadata": {},
   "outputs": [
    {
     "name": "stdout",
     "output_type": "stream",
     "text": [
      "/home/elijah/video_membership\n"
     ]
    }
   ],
   "source": [
    "%cd /home/elijah/video_membership\n"
   ]
  },
  {
   "cell_type": "code",
   "execution_count": 3,
   "id": "ff5ca278",
   "metadata": {},
   "outputs": [],
   "source": [
    "import datetime\n",
    "from app import db, config\n",
    "from app.playlists.models import PlayList\n",
    "from app.videos.models import Video\n",
    "from cassandra.cqlengine.management import sync_table"
   ]
  },
  {
   "cell_type": "code",
   "execution_count": 4,
   "id": "ecde460e",
   "metadata": {},
   "outputs": [],
   "source": [
    "session = db.get_session()\n",
    "settings = config.get_settings()\n",
    "allow_table_drop = True"
   ]
  },
  {
   "cell_type": "code",
   "execution_count": 5,
   "id": "4dcd4290",
   "metadata": {},
   "outputs": [],
   "source": [
    "if allow_table_drop:\n",
    "    session.execute(f\"DROP TABLE IF EXISTS {settings.keyspace}.playlist\")"
   ]
  },
  {
   "cell_type": "code",
   "execution_count": 6,
   "id": "8322bbe5",
   "metadata": {},
   "outputs": [],
   "source": [
    "sync_table(PlayList)\n",
    "sync_table(Video)"
   ]
  },
  {
   "cell_type": "code",
   "execution_count": 7,
   "id": "55615d4a",
   "metadata": {},
   "outputs": [
    {
     "data": {
      "text/plain": [
       "PlayList(db_id=UUID('98853dee-b732-11ed-ab0e-a9ea9ce579b1'), user_id=None, updated=datetime.datetime(2023, 2, 28, 6, 38, 54, 788323), host_ids=[], title='Hello sam')"
      ]
     },
     "execution_count": 7,
     "metadata": {},
     "output_type": "execute_result"
    }
   ],
   "source": [
    "obj = PlayList.objects.create(title='Hello sam')\n",
    "obj"
   ]
  },
  {
   "cell_type": "code",
   "execution_count": null,
   "id": "0b46482c",
   "metadata": {},
   "outputs": [],
   "source": [
    "list(PlayList.objects.al)"
   ]
  },
  {
   "cell_type": "code",
   "execution_count": 8,
   "id": "c282aa3e",
   "metadata": {},
   "outputs": [],
   "source": [
    "#obj.updated = datetime.datetime.utcnow()\n",
    "#obj.save()"
   ]
  },
  {
   "cell_type": "code",
   "execution_count": 10,
   "id": "e5639d61",
   "metadata": {},
   "outputs": [
    {
     "data": {
      "text/plain": [
       "PlayList(db_id=UUID('98853dee-b732-11ed-ab0e-a9ea9ce579b1'), user_id=None, updated=datetime.datetime(2023, 2, 28, 6, 38, 54, 788323), host_ids=['some new list'], title='Hello sam')"
      ]
     },
     "execution_count": 10,
     "metadata": {},
     "output_type": "execute_result"
    }
   ],
   "source": [
    "obj.host_ids = ['some new list']\n",
    "obj.save()\n",
    "obj"
   ]
  },
  {
   "cell_type": "code",
   "execution_count": 13,
   "id": "14931444",
   "metadata": {},
   "outputs": [
    {
     "data": {
      "text/plain": [
       "['RB-RcX5DS5A', 'r5y4EDxiMWs', 'cjVQ36NhbMk', '2K2LpF1WdLk', 'cimoNqiulUE']"
      ]
     },
     "execution_count": 13,
     "metadata": {},
     "output_type": "execute_result"
    }
   ],
   "source": [
    "host_ids = list(Video.objects.all().limit(5).values_list(\"host_id\", flat= True))\n",
    "host_ids"
   ]
  },
  {
   "cell_type": "code",
   "execution_count": 14,
   "id": "b44fa366",
   "metadata": {},
   "outputs": [
    {
     "data": {
      "text/plain": [
       "True"
      ]
     },
     "execution_count": 14,
     "metadata": {},
     "output_type": "execute_result"
    }
   ],
   "source": [
    "obj.add_host_ids(host_ids[:3], replace_all=True) "
   ]
  },
  {
   "cell_type": "code",
   "execution_count": 15,
   "id": "1b315844",
   "metadata": {},
   "outputs": [
    {
     "data": {
      "text/plain": [
       "[Video(title=sammy best viddeo, host_id=RB-RcX5DS5A,host_service=youtube),\n",
       " Video(title=None, host_id=cjVQ36NhbMk,host_service=youtube),\n",
       " Video(title=None, host_id=r5y4EDxiMWs,host_service=youtube)]"
      ]
     },
     "execution_count": 15,
     "metadata": {},
     "output_type": "execute_result"
    }
   ],
   "source": [
    "video_q = list(Video.objects.filter(host_id__in=obj.host_ids))\n",
    "video_q"
   ]
  },
  {
   "cell_type": "code",
   "execution_count": 16,
   "id": "73c5d1e9",
   "metadata": {},
   "outputs": [
    {
     "data": {
      "text/plain": [
       "[Video(title=sammy best viddeo, host_id=RB-RcX5DS5A,host_service=youtube),\n",
       " Video(title=None, host_id=r5y4EDxiMWs,host_service=youtube),\n",
       " Video(title=None, host_id=cjVQ36NhbMk,host_service=youtube)]"
      ]
     },
     "execution_count": 16,
     "metadata": {},
     "output_type": "execute_result"
    }
   ],
   "source": [
    "obj.get_videos()"
   ]
  },
  {
   "cell_type": "code",
   "execution_count": null,
   "id": "0c6be8d2",
   "metadata": {},
   "outputs": [],
   "source": []
  }
 ],
 "metadata": {
  "kernelspec": {
   "display_name": "Python 3 (ipykernel)",
   "language": "python",
   "name": "python3"
  },
  "language_info": {
   "codemirror_mode": {
    "name": "ipython",
    "version": 3
   },
   "file_extension": ".py",
   "mimetype": "text/x-python",
   "name": "python",
   "nbconvert_exporter": "python",
   "pygments_lexer": "ipython3",
   "version": "3.10.6"
  }
 },
 "nbformat": 4,
 "nbformat_minor": 5
}
