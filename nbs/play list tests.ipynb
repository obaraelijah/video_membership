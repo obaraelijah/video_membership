{
 "cells": [
  {
   "cell_type": "code",
   "execution_count": 6,
   "id": "65dacddd",
   "metadata": {},
   "outputs": [
    {
     "name": "stdout",
     "output_type": "stream",
     "text": [
      "/home/elijah/video_membership\n"
     ]
    }
   ],
   "source": [
    "%cd /home/elijah/video_membership\n"
   ]
  },
  {
   "cell_type": "code",
   "execution_count": 10,
   "id": "ff5ca278",
   "metadata": {},
   "outputs": [],
   "source": [
    "import datetime\n",
    "from app import db, config\n",
    "from app.playlist.models import Playlist\n",
    "from app.videos.models import Video\n",
    "from cassandra.cqlengine.management import sync_table"
   ]
  },
  {
   "cell_type": "code",
   "execution_count": 11,
   "id": "ecde460e",
   "metadata": {},
   "outputs": [],
   "source": [
    "session = db.get_session()\n",
    "settings = config.get_settings()\n",
    "allow_table_drop = True"
   ]
  },
  {
   "cell_type": "code",
   "execution_count": 12,
   "id": "4dcd4290",
   "metadata": {},
   "outputs": [],
   "source": [
    "if allow_table_drop:\n",
    "    session.execute(f\"DROP TABLE IF EXISTS {settings.keyspace}.playlist\")"
   ]
  },
  {
   "cell_type": "code",
   "execution_count": 14,
   "id": "8322bbe5",
   "metadata": {},
   "outputs": [],
   "source": [
    "sync_table(Playlist)\n",
    "sync_table(Video)"
   ]
  },
  {
   "cell_type": "code",
   "execution_count": 17,
   "id": "55615d4a",
   "metadata": {},
   "outputs": [
    {
     "data": {
      "text/plain": [
       "Playlist(db_id=UUID('101df0e6-b79a-11ed-ab0e-a9ea9ce579b1'), user_id=None, updated=datetime.datetime(2023, 2, 28, 18, 58, 51, 867764), host_ids=[], title='Hello sam')"
      ]
     },
     "execution_count": 17,
     "metadata": {},
     "output_type": "execute_result"
    }
   ],
   "source": [
    "obj = Playlist.objects.create(title='Hello sam')\n",
    "obj"
   ]
  },
  {
   "cell_type": "code",
   "execution_count": 21,
   "id": "0b46482c",
   "metadata": {},
   "outputs": [
    {
     "ename": "TypeError",
     "evalue": "'method' object is not iterable",
     "output_type": "error",
     "traceback": [
      "\u001b[0;31m---------------------------------------------------------------------------\u001b[0m",
      "\u001b[0;31mTypeError\u001b[0m                                 Traceback (most recent call last)",
      "Cell \u001b[0;32mIn[21], line 1\u001b[0m\n\u001b[0;32m----> 1\u001b[0m \u001b[38;5;28;43mlist\u001b[39;49m\u001b[43m(\u001b[49m\u001b[43mPlaylist\u001b[49m\u001b[38;5;241;43m.\u001b[39;49m\u001b[43mobjects\u001b[49m\u001b[38;5;241;43m.\u001b[39;49m\u001b[43mall\u001b[49m\u001b[43m)\u001b[49m\n",
      "\u001b[0;31mTypeError\u001b[0m: 'method' object is not iterable"
     ]
    }
   ],
   "source": [
    "list(Playlist.objects.all)"
   ]
  },
  {
   "cell_type": "code",
   "execution_count": 19,
   "id": "c282aa3e",
   "metadata": {},
   "outputs": [],
   "source": [
    "#obj.updated = datetime.datetime.utcnow()\n",
    "#obj.save()"
   ]
  },
  {
   "cell_type": "code",
   "execution_count": null,
   "id": "e5639d61",
   "metadata": {},
   "outputs": [],
   "source": [
    "obj.host_ids = ['some new list']\n",
    "obj.save()\n",
    "obj"
   ]
  },
  {
   "cell_type": "code",
   "execution_count": null,
   "id": "14931444",
   "metadata": {},
   "outputs": [],
   "source": [
    "host_ids = list(Video.objects.all().limit(5).values_list(\"host_id\", flat= True))\n",
    "host_ids"
   ]
  },
  {
   "cell_type": "code",
   "execution_count": null,
   "id": "b44fa366",
   "metadata": {},
   "outputs": [],
   "source": [
    "obj.add_host_ids(host_ids[:3], replace_all=True) "
   ]
  },
  {
   "cell_type": "code",
   "execution_count": null,
   "id": "1b315844",
   "metadata": {},
   "outputs": [],
   "source": [
    "video_q = list(Video.objects.filter(host_id__in=obj.host_ids))\n",
    "video_q"
   ]
  },
  {
   "cell_type": "code",
   "execution_count": null,
   "id": "73c5d1e9",
   "metadata": {},
   "outputs": [],
   "source": [
    "obj.get_videos()"
   ]
  },
  {
   "cell_type": "code",
   "execution_count": null,
   "id": "0c6be8d2",
   "metadata": {},
   "outputs": [],
   "source": []
  },
  {
   "cell_type": "code",
   "execution_count": null,
   "id": "f4446f5c",
   "metadata": {},
   "outputs": [],
   "source": []
  }
 ],
 "metadata": {
  "kernelspec": {
   "display_name": "Python 3 (ipykernel)",
   "language": "python",
   "name": "python3"
  },
  "language_info": {
   "codemirror_mode": {
    "name": "ipython",
    "version": 3
   },
   "file_extension": ".py",
   "mimetype": "text/x-python",
   "name": "python",
   "nbconvert_exporter": "python",
   "pygments_lexer": "ipython3",
   "version": "3.10.6"
  }
 },
 "nbformat": 4,
 "nbformat_minor": 5
}
