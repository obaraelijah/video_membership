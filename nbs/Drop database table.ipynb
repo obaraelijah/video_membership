{
 "cells": [
  {
   "cell_type": "code",
   "execution_count": 6,
   "id": "d9b08e3c",
   "metadata": {},
   "outputs": [
    {
     "name": "stdout",
     "output_type": "stream",
     "text": [
      "/home/elijah/video_membership\n"
     ]
    }
   ],
   "source": [
    "%cd /home/elijah/video_membership"
   ]
  },
  {
   "cell_type": "code",
   "execution_count": 25,
   "id": "7980644c",
   "metadata": {},
   "outputs": [],
   "source": [
    "from app import db, config\n",
    "from app.watch_events.models import WatchEvent\n",
    "#from app.users.models import User"
   ]
  },
  {
   "cell_type": "code",
   "execution_count": 26,
   "id": "cc11f528",
   "metadata": {},
   "outputs": [],
   "source": [
    "session = db.get_session()"
   ]
  },
  {
   "cell_type": "code",
   "execution_count": 27,
   "id": "132e5ab2",
   "metadata": {},
   "outputs": [],
   "source": [
    "settings = config.get_settings()"
   ]
  },
  {
   "cell_type": "code",
   "execution_count": 28,
   "id": "ed490c9f",
   "metadata": {},
   "outputs": [],
   "source": [
    "keyspace = settings.keyspace"
   ]
  },
  {
   "cell_type": "code",
   "execution_count": 38,
   "id": "d2a02e6d",
   "metadata": {},
   "outputs": [
    {
     "ename": "InvalidRequest",
     "evalue": "Error from server: code=2200 [Invalid query] message=\"table video_membership_app.watch_event does not exist\"",
     "output_type": "error",
     "traceback": [
      "\u001b[0;31m---------------------------------------------------------------------------\u001b[0m",
      "\u001b[0;31mInvalidRequest\u001b[0m                            Traceback (most recent call last)",
      "Cell \u001b[0;32mIn[38], line 4\u001b[0m\n\u001b[1;32m      2\u001b[0m query_str \u001b[38;5;241m=\u001b[39m \u001b[38;5;28mstr\u001b[39m(q\u001b[38;5;241m.\u001b[39m_select_query())\n\u001b[1;32m      3\u001b[0m query_str\n\u001b[0;32m----> 4\u001b[0m q_r \u001b[38;5;241m=\u001b[39m \u001b[43msession\u001b[49m\u001b[38;5;241;43m.\u001b[39;49m\u001b[43mexecute\u001b[49m\u001b[43m(\u001b[49m\u001b[43mquery_str\u001b[49m\u001b[43m)\u001b[49m\n\u001b[1;32m      5\u001b[0m \u001b[38;5;28;01mfor\u001b[39;00m item \u001b[38;5;129;01min\u001b[39;00m q_r\u001b[38;5;241m.\u001b[39mall():\n\u001b[1;32m      6\u001b[0m     \u001b[38;5;28mprint\u001b[39m(item)\n",
      "File \u001b[0;32m~/video_membership/env/lib/python3.10/site-packages/cassandra/cluster.py:2618\u001b[0m, in \u001b[0;36mcassandra.cluster.Session.execute\u001b[0;34m()\u001b[0m\n",
      "File \u001b[0;32m~/video_membership/env/lib/python3.10/site-packages/cassandra/cluster.py:4894\u001b[0m, in \u001b[0;36mcassandra.cluster.ResponseFuture.result\u001b[0;34m()\u001b[0m\n",
      "\u001b[0;31mInvalidRequest\u001b[0m: Error from server: code=2200 [Invalid query] message=\"table video_membership_app.watch_event does not exist\""
     ]
    }
   ],
   "source": [
    "q = WatchEvent.objects.all()\n",
    "query_str = str(q._select_query())\n",
    "query_str\n",
    "q_r = session.execute(query_str)\n",
    "for item in q_r.all():\n",
    "    print(item)"
   ]
  },
  {
   "cell_type": "code",
   "execution_count": 39,
   "id": "ed1ccd73",
   "metadata": {},
   "outputs": [],
   "source": [
    "model_name = \"watch_event\""
   ]
  },
  {
   "cell_type": "code",
   "execution_count": 36,
   "id": "fba62b5a",
   "metadata": {},
   "outputs": [
    {
     "data": {
      "text/plain": [
       "'DROP TABLE IF EXISTS video_membership_app.watch_event'"
      ]
     },
     "execution_count": 36,
     "metadata": {},
     "output_type": "execute_result"
    }
   ],
   "source": [
    "cmd = f\"DROP TABLE IF EXISTS {keyspace}.{model_name}\"\n",
    "cmd"
   ]
  },
  {
   "cell_type": "code",
   "execution_count": 37,
   "id": "bc195832",
   "metadata": {},
   "outputs": [
    {
     "ename": "OperationTimedOut",
     "evalue": "errors={'bf36045e-3063-400b-b8f3-9c4231a1716e-europe-west1.db.astra.datastax.com:29042:871f2150-d8f1-47de-a637-e41b0b471720': 'Client request timeout. See Session.execute[_async](timeout)'}, last_host=bf36045e-3063-400b-b8f3-9c4231a1716e-europe-west1.db.astra.datastax.com:29042:871f2150-d8f1-47de-a637-e41b0b471720",
     "output_type": "error",
     "traceback": [
      "\u001b[0;31m---------------------------------------------------------------------------\u001b[0m",
      "\u001b[0;31mOperationTimedOut\u001b[0m                         Traceback (most recent call last)",
      "Cell \u001b[0;32mIn[37], line 1\u001b[0m\n\u001b[0;32m----> 1\u001b[0m r \u001b[38;5;241m=\u001b[39m \u001b[43msession\u001b[49m\u001b[38;5;241;43m.\u001b[39;49m\u001b[43mexecute\u001b[49m\u001b[43m(\u001b[49m\u001b[43mcmd\u001b[49m\u001b[43m)\u001b[49m\n",
      "File \u001b[0;32m~/video_membership/env/lib/python3.10/site-packages/cassandra/cluster.py:2618\u001b[0m, in \u001b[0;36mcassandra.cluster.Session.execute\u001b[0;34m()\u001b[0m\n",
      "File \u001b[0;32m~/video_membership/env/lib/python3.10/site-packages/cassandra/cluster.py:4894\u001b[0m, in \u001b[0;36mcassandra.cluster.ResponseFuture.result\u001b[0;34m()\u001b[0m\n",
      "\u001b[0;31mOperationTimedOut\u001b[0m: errors={'bf36045e-3063-400b-b8f3-9c4231a1716e-europe-west1.db.astra.datastax.com:29042:871f2150-d8f1-47de-a637-e41b0b471720': 'Client request timeout. See Session.execute[_async](timeout)'}, last_host=bf36045e-3063-400b-b8f3-9c4231a1716e-europe-west1.db.astra.datastax.com:29042:871f2150-d8f1-47de-a637-e41b0b471720"
     ]
    }
   ],
   "source": [
    "r = session.execute(cmd)"
   ]
  },
  {
   "cell_type": "code",
   "execution_count": null,
   "id": "eab81e81",
   "metadata": {},
   "outputs": [],
   "source": [
    "dir(r)"
   ]
  },
  {
   "cell_type": "code",
   "execution_count": null,
   "id": "7ad43977",
   "metadata": {},
   "outputs": [],
   "source": [
    "for item in  r.all():\n",
    "    print(item)"
   ]
  },
  {
   "cell_type": "code",
   "execution_count": null,
   "id": "cc6564f1",
   "metadata": {},
   "outputs": [],
   "source": []
  }
 ],
 "metadata": {
  "kernelspec": {
   "display_name": "Python 3 (ipykernel)",
   "language": "python",
   "name": "python3"
  },
  "language_info": {
   "codemirror_mode": {
    "name": "ipython",
    "version": 3
   },
   "file_extension": ".py",
   "mimetype": "text/x-python",
   "name": "python",
   "nbconvert_exporter": "python",
   "pygments_lexer": "ipython3",
   "version": "3.10.6"
  }
 },
 "nbformat": 4,
 "nbformat_minor": 5
}
