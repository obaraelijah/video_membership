{
 "cells": [
  {
   "cell_type": "code",
   "execution_count": 7,
   "id": "65dacddd",
   "metadata": {},
   "outputs": [
    {
     "name": "stdout",
     "output_type": "stream",
     "text": [
      "/home/elijah/video_membership\n"
     ]
    }
   ],
   "source": [
    "%cd /home/elijah/video_membership\n"
   ]
  },
  {
   "cell_type": "code",
   "execution_count": 8,
   "id": "ff5ca278",
   "metadata": {},
   "outputs": [],
   "source": [
    "from app import db\n",
    "from app.users.models import User\n",
    "from app.videos.models import Video\n",
    "from cassandra.cqlengine.management import sync_table"
   ]
  },
  {
   "cell_type": "code",
   "execution_count": 9,
   "id": "ecde460e",
   "metadata": {},
   "outputs": [],
   "source": [
    "db.get_session()\n",
    "sync_table(User)\n",
    "sync_table(Video)"
   ]
  },
  {
   "cell_type": "code",
   "execution_count": 13,
   "id": "87c1b28c",
   "metadata": {},
   "outputs": [],
   "source": [
    "url = 'https://www.youtube.com/watch?v=cjVQ36NhbMk'"
   ]
  },
  {
   "cell_type": "code",
   "execution_count": 14,
   "id": "acf55da9",
   "metadata": {},
   "outputs": [
    {
     "data": {
      "text/plain": [
       "User(email=elija@gmail.com, user_id=e2f76ba4-adc3-11ed-b906-331c8dd1903c)"
      ]
     },
     "execution_count": 14,
     "metadata": {},
     "output_type": "execute_result"
    }
   ],
   "source": [
    "abc = User.objects.get(email='elija@gmail.com')\n",
    "abc"
   ]
  },
  {
   "cell_type": "code",
   "execution_count": 15,
   "id": "5a416d81",
   "metadata": {},
   "outputs": [],
   "source": [
    "obj = Video.add_video(url, user_id=abc.user_id)"
   ]
  },
  {
   "cell_type": "code",
   "execution_count": 17,
   "id": "0d1bda75",
   "metadata": {},
   "outputs": [
    {
     "data": {
      "text/plain": [
       "Video(host_id=cjVQ36NhbMk,host_service=youtube)"
      ]
     },
     "execution_count": 17,
     "metadata": {},
     "output_type": "execute_result"
    }
   ],
   "source": [
    "obj"
   ]
  },
  {
   "cell_type": "code",
   "execution_count": 18,
   "id": "adee12cf",
   "metadata": {},
   "outputs": [],
   "source": [
    "url = 'https://www.youtube.com/watch?v=r5y4EDxiMWs'\n",
    "obj = Video.add_video(url, user_id=abc.user_id)"
   ]
  },
  {
   "cell_type": "code",
   "execution_count": 19,
   "id": "6091ebb0",
   "metadata": {},
   "outputs": [
    {
     "data": {
      "text/plain": [
       "'r5y4EDxiMWs'"
      ]
     },
     "execution_count": 19,
     "metadata": {},
     "output_type": "execute_result"
    }
   ],
   "source": [
    "obj.host_id"
   ]
  },
  {
   "cell_type": "code",
   "execution_count": null,
   "id": "7126046f",
   "metadata": {},
   "outputs": [],
   "source": []
  }
 ],
 "metadata": {
  "kernelspec": {
   "display_name": "Python 3 (ipykernel)",
   "language": "python",
   "name": "python3"
  },
  "language_info": {
   "codemirror_mode": {
    "name": "ipython",
    "version": 3
   },
   "file_extension": ".py",
   "mimetype": "text/x-python",
   "name": "python",
   "nbconvert_exporter": "python",
   "pygments_lexer": "ipython3",
   "version": "3.10.6"
  }
 },
 "nbformat": 4,
 "nbformat_minor": 5
}
