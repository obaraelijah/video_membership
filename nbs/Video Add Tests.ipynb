{
 "cells": [
  {
   "cell_type": "code",
   "execution_count": 1,
   "id": "65dacddd",
   "metadata": {},
   "outputs": [
    {
     "name": "stdout",
     "output_type": "stream",
     "text": [
      "/home/elijah/video_membership\n"
     ]
    }
   ],
   "source": [
    "%cd /home/elijah/video_membership\n"
   ]
  },
  {
   "cell_type": "code",
   "execution_count": 10,
   "id": "ff5ca278",
   "metadata": {},
   "outputs": [],
   "source": [
    "from app import db\n",
    "from app.playlist.models import Playlist \n",
    "from app.users.models import User\n",
    "from app.videos.models import Video\n",
    "from cassandra.cqlengine.management import sync_table"
   ]
  },
  {
   "cell_type": "code",
   "execution_count": 11,
   "id": "ecde460e",
   "metadata": {},
   "outputs": [],
   "source": [
    "db.get_session()\n",
    "sync_table(User)\n",
    "sync_table(Video)\n",
    "sync_table(Playlist)"
   ]
  },
  {
   "cell_type": "code",
   "execution_count": 12,
   "id": "87c1b28c",
   "metadata": {},
   "outputs": [],
   "source": [
    "url = 'https://www.youtube.com/watch?v=cjVQ36NhbMk'"
   ]
  },
  {
   "cell_type": "code",
   "execution_count": 13,
   "id": "acf55da9",
   "metadata": {},
   "outputs": [
    {
     "data": {
      "text/plain": [
       "User(email=elija@gmail.com, user_id=e2f76ba4-adc3-11ed-b906-331c8dd1903c)"
      ]
     },
     "execution_count": 13,
     "metadata": {},
     "output_type": "execute_result"
    }
   ],
   "source": [
    "abc = User.objects.get(email='elija@gmail.com')\n",
    "abc"
   ]
  },
  {
   "cell_type": "code",
   "execution_count": 14,
   "id": "5a416d81",
   "metadata": {},
   "outputs": [
    {
     "ename": "VideoAlreadyAddedException",
     "evalue": "Video already added",
     "output_type": "error",
     "traceback": [
      "\u001b[0;31m---------------------------------------------------------------------------\u001b[0m",
      "\u001b[0;31mVideoAlreadyAddedException\u001b[0m                Traceback (most recent call last)",
      "Cell \u001b[0;32mIn[14], line 1\u001b[0m\n\u001b[0;32m----> 1\u001b[0m obj \u001b[38;5;241m=\u001b[39m \u001b[43mVideo\u001b[49m\u001b[38;5;241;43m.\u001b[39;49m\u001b[43madd_video\u001b[49m\u001b[43m(\u001b[49m\u001b[43murl\u001b[49m\u001b[43m,\u001b[49m\u001b[43m \u001b[49m\u001b[43muser_id\u001b[49m\u001b[38;5;241;43m=\u001b[39;49m\u001b[43mabc\u001b[49m\u001b[38;5;241;43m.\u001b[39;49m\u001b[43muser_id\u001b[49m\u001b[43m)\u001b[49m\n",
      "File \u001b[0;32m~/video_membership/app/videos/models.py:82\u001b[0m, in \u001b[0;36mVideo.add_video\u001b[0;34m(url, user_id, **kwargs)\u001b[0m\n\u001b[1;32m     80\u001b[0m q \u001b[38;5;241m=\u001b[39m Video\u001b[38;5;241m.\u001b[39mobjects\u001b[38;5;241m.\u001b[39mallow_filtering()\u001b[38;5;241m.\u001b[39mfilter(host_id\u001b[38;5;241m=\u001b[39mhost_id) \u001b[38;5;66;03m#user_id=user_id)\u001b[39;00m\n\u001b[1;32m     81\u001b[0m \u001b[38;5;28;01mif\u001b[39;00m q\u001b[38;5;241m.\u001b[39mcount() \u001b[38;5;241m!=\u001b[39m \u001b[38;5;241m0\u001b[39m:\n\u001b[0;32m---> 82\u001b[0m     \u001b[38;5;28;01mraise\u001b[39;00m VideoAlreadyAddedException(\u001b[38;5;124m\"\u001b[39m\u001b[38;5;124mVideo already added\u001b[39m\u001b[38;5;124m\"\u001b[39m)\n\u001b[1;32m     83\u001b[0m \u001b[38;5;28;01mreturn\u001b[39;00m Video\u001b[38;5;241m.\u001b[39mcreate(host_id\u001b[38;5;241m=\u001b[39mhost_id, user_id\u001b[38;5;241m=\u001b[39muser_id, url\u001b[38;5;241m=\u001b[39murl, \u001b[38;5;241m*\u001b[39m\u001b[38;5;241m*\u001b[39mkwargs)\n",
      "\u001b[0;31mVideoAlreadyAddedException\u001b[0m: Video already added"
     ]
    }
   ],
   "source": [
    "obj = Video.add_video(url, user_id=abc.user_id)"
   ]
  },
  {
   "cell_type": "code",
   "execution_count": null,
   "id": "0d1bda75",
   "metadata": {},
   "outputs": [],
   "source": [
    "obj"
   ]
  },
  {
   "cell_type": "code",
   "execution_count": null,
   "id": "adee12cf",
   "metadata": {},
   "outputs": [],
   "source": [
    "url = 'https://www.youtube.com/watch?v=r5y4EDxiMWs'\n",
    "obj = Video.add_video(url, user_id=abc.user_id)"
   ]
  },
  {
   "cell_type": "code",
   "execution_count": 17,
   "id": "6091ebb0",
   "metadata": {},
   "outputs": [
    {
     "ename": "NameError",
     "evalue": "name 'obj' is not defined",
     "output_type": "error",
     "traceback": [
      "\u001b[0;31m---------------------------------------------------------------------------\u001b[0m",
      "\u001b[0;31mNameError\u001b[0m                                 Traceback (most recent call last)",
      "Cell \u001b[0;32mIn[17], line 1\u001b[0m\n\u001b[0;32m----> 1\u001b[0m \u001b[43mobj\u001b[49m\u001b[38;5;241m.\u001b[39mhost_id\n",
      "\u001b[0;31mNameError\u001b[0m: name 'obj' is not defined"
     ]
    }
   ],
   "source": [
    "obj.host_id"
   ]
  },
  {
   "cell_type": "code",
   "execution_count": 18,
   "id": "7126046f",
   "metadata": {},
   "outputs": [
    {
     "data": {
      "text/plain": [
       "(Video(title=None, host_id=XXXKT-hQfq8,host_service=youtube), False)"
      ]
     },
     "execution_count": 18,
     "metadata": {},
     "output_type": "execute_result"
    }
   ],
   "source": [
    "url = 'https://youtu.be/XXXKT-hQfq8'\n",
    "obj_2 , created = Video.get_or_create(url, user_id=abc.user_id)\n",
    "obj_2, created"
   ]
  },
  {
   "cell_type": "code",
   "execution_count": 19,
   "id": "3ddcd5b5",
   "metadata": {},
   "outputs": [
    {
     "data": {
      "text/plain": [
       "Playlist(db_id=UUID('101df0e6-b79a-11ed-ab0e-a9ea9ce579b1'), user_id=None, updated=datetime.datetime(2023, 3, 1, 15, 30, 17, 133095), host_ids=['XXXKT-hQfq8'], title='Hello sam')"
      ]
     },
     "execution_count": 19,
     "metadata": {},
     "output_type": "execute_result"
    }
   ],
   "source": [
    "playlist_obj = Playlist.objects.all().first()\n",
    "playlist_obj.add_host_ids(host_ids=[obj_2.host_id], replace_all=True)\n",
    "playlist_obj.save()"
   ]
  },
  {
   "cell_type": "code",
   "execution_count": null,
   "id": "f84ad5a7",
   "metadata": {},
   "outputs": [],
   "source": []
  }
 ],
 "metadata": {
  "kernelspec": {
   "display_name": "Python 3 (ipykernel)",
   "language": "python",
   "name": "python3"
  },
  "language_info": {
   "codemirror_mode": {
    "name": "ipython",
    "version": 3
   },
   "file_extension": ".py",
   "mimetype": "text/x-python",
   "name": "python",
   "nbconvert_exporter": "python",
   "pygments_lexer": "ipython3",
   "version": "3.10.6"
  }
 },
 "nbformat": 4,
 "nbformat_minor": 5
}
